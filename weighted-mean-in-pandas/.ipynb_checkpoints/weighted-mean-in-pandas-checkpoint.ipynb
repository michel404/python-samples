{
 "cells": [
  {
   "cell_type": "code",
   "execution_count": 1,
   "metadata": {},
   "outputs": [],
   "source": [
    "import pandas as pd\n",
    "import numpy as np\n",
    "import datetime\n",
    "\n",
    "labels = ['label1', 'label2', 'label3']\n",
    "number_of_lines = 50000000\n",
    "df = pd.DataFrame({\n",
    "    'label': np.random.choice(labels, number_of_lines),\n",
    "    'value': np.random.rand(number_of_lines),\n",
    "    'weight': np.random.rand(number_of_lines),\n",
    "})\n",
    "\n",
    "dfs = {}\n",
    "times = {}"
   ]
  },
  {
   "cell_type": "code",
   "execution_count": 2,
   "metadata": {},
   "outputs": [
    {
     "data": {
      "text/html": [
       "<div>\n",
       "<style scoped>\n",
       "    .dataframe tbody tr th:only-of-type {\n",
       "        vertical-align: middle;\n",
       "    }\n",
       "\n",
       "    .dataframe tbody tr th {\n",
       "        vertical-align: top;\n",
       "    }\n",
       "\n",
       "    .dataframe thead th {\n",
       "        text-align: right;\n",
       "    }\n",
       "</style>\n",
       "<table border=\"1\" class=\"dataframe\">\n",
       "  <thead>\n",
       "    <tr style=\"text-align: right;\">\n",
       "      <th></th>\n",
       "      <th>value</th>\n",
       "    </tr>\n",
       "    <tr>\n",
       "      <th>label</th>\n",
       "      <th></th>\n",
       "    </tr>\n",
       "  </thead>\n",
       "  <tbody>\n",
       "    <tr>\n",
       "      <th>label1</th>\n",
       "      <td>0.499929</td>\n",
       "    </tr>\n",
       "    <tr>\n",
       "      <th>label2</th>\n",
       "      <td>0.499946</td>\n",
       "    </tr>\n",
       "    <tr>\n",
       "      <th>label3</th>\n",
       "      <td>0.500008</td>\n",
       "    </tr>\n",
       "  </tbody>\n",
       "</table>\n",
       "</div>"
      ],
      "text/plain": [
       "           value\n",
       "label           \n",
       "label1  0.499929\n",
       "label2  0.499946\n",
       "label3  0.500008"
      ]
     },
     "execution_count": 2,
     "metadata": {},
     "output_type": "execute_result"
    }
   ],
   "source": [
    "# regular mean (not weighted)\n",
    "key = 'unweighted'\n",
    "start_dt = datetime.datetime.now()\n",
    "\n",
    "dfs[key] = df.groupby('label').agg({\n",
    "    'value': np.mean,\n",
    "})\n",
    "\n",
    "times[key] = datetime.datetime.now() - start_dt\n",
    "dfs[key]"
   ]
  },
  {
   "cell_type": "code",
   "execution_count": 3,
   "metadata": {},
   "outputs": [
    {
     "data": {
      "text/html": [
       "<div>\n",
       "<style scoped>\n",
       "    .dataframe tbody tr th:only-of-type {\n",
       "        vertical-align: middle;\n",
       "    }\n",
       "\n",
       "    .dataframe tbody tr th {\n",
       "        vertical-align: top;\n",
       "    }\n",
       "\n",
       "    .dataframe thead th {\n",
       "        text-align: right;\n",
       "    }\n",
       "</style>\n",
       "<table border=\"1\" class=\"dataframe\">\n",
       "  <thead>\n",
       "    <tr style=\"text-align: right;\">\n",
       "      <th></th>\n",
       "      <th>zip</th>\n",
       "    </tr>\n",
       "    <tr>\n",
       "      <th>label</th>\n",
       "      <th></th>\n",
       "    </tr>\n",
       "  </thead>\n",
       "  <tbody>\n",
       "    <tr>\n",
       "      <th>label1</th>\n",
       "      <td>0.499910</td>\n",
       "    </tr>\n",
       "    <tr>\n",
       "      <th>label2</th>\n",
       "      <td>0.499925</td>\n",
       "    </tr>\n",
       "    <tr>\n",
       "      <th>label3</th>\n",
       "      <td>0.500031</td>\n",
       "    </tr>\n",
       "  </tbody>\n",
       "</table>\n",
       "</div>"
      ],
      "text/plain": [
       "             zip\n",
       "label           \n",
       "label1  0.499910\n",
       "label2  0.499925\n",
       "label3  0.500031"
      ]
     },
     "execution_count": 3,
     "metadata": {},
     "output_type": "execute_result"
    }
   ],
   "source": [
    "# weighted mean - zip and aggregate\n",
    "key = 'zip_and_agg'\n",
    "start_dt = datetime.datetime.now()\n",
    "\n",
    "df['zip'] = list(zip(df['value'], df['weight']))\n",
    "dfs[key] = df.groupby('label').agg({\n",
    "    'zip': lambda items: sum([item[0] * item[1] for item in items])/sum([item[1] for item in items]),\n",
    "})\n",
    "\n",
    "times[key] = datetime.datetime.now() - start_dt\n",
    "dfs[key]"
   ]
  },
  {
   "cell_type": "code",
   "execution_count": 4,
   "metadata": {},
   "outputs": [
    {
     "data": {
      "text/html": [
       "<div>\n",
       "<style scoped>\n",
       "    .dataframe tbody tr th:only-of-type {\n",
       "        vertical-align: middle;\n",
       "    }\n",
       "\n",
       "    .dataframe tbody tr th {\n",
       "        vertical-align: top;\n",
       "    }\n",
       "\n",
       "    .dataframe thead th {\n",
       "        text-align: right;\n",
       "    }\n",
       "</style>\n",
       "<table border=\"1\" class=\"dataframe\">\n",
       "  <thead>\n",
       "    <tr style=\"text-align: right;\">\n",
       "      <th></th>\n",
       "      <th>label</th>\n",
       "      <th>0</th>\n",
       "    </tr>\n",
       "  </thead>\n",
       "  <tbody>\n",
       "    <tr>\n",
       "      <th>0</th>\n",
       "      <td>label1</td>\n",
       "      <td>0.499910</td>\n",
       "    </tr>\n",
       "    <tr>\n",
       "      <th>1</th>\n",
       "      <td>label2</td>\n",
       "      <td>0.499925</td>\n",
       "    </tr>\n",
       "    <tr>\n",
       "      <th>2</th>\n",
       "      <td>label3</td>\n",
       "      <td>0.500031</td>\n",
       "    </tr>\n",
       "  </tbody>\n",
       "</table>\n",
       "</div>"
      ],
      "text/plain": [
       "    label         0\n",
       "0  label1  0.499910\n",
       "1  label2  0.499925\n",
       "2  label3  0.500031"
      ]
     },
     "execution_count": 4,
     "metadata": {},
     "output_type": "execute_result"
    }
   ],
   "source": [
    "# weighted mean - apply\n",
    "key = 'apply'\n",
    "start_dt = datetime.datetime.now()\n",
    "\n",
    "dfs[key] = df.groupby('label').apply(lambda x: sum(x['value'] * x['weight'])/sum(x['weight'])).reset_index()\n",
    "\n",
    "times[key] = datetime.datetime.now() - start_dt\n",
    "dfs[key]"
   ]
  },
  {
   "cell_type": "code",
   "execution_count": 5,
   "metadata": {},
   "outputs": [
    {
     "data": {
      "text/html": [
       "<div>\n",
       "<style scoped>\n",
       "    .dataframe tbody tr th:only-of-type {\n",
       "        vertical-align: middle;\n",
       "    }\n",
       "\n",
       "    .dataframe tbody tr th {\n",
       "        vertical-align: top;\n",
       "    }\n",
       "\n",
       "    .dataframe thead th {\n",
       "        text-align: right;\n",
       "    }\n",
       "</style>\n",
       "<table border=\"1\" class=\"dataframe\">\n",
       "  <thead>\n",
       "    <tr style=\"text-align: right;\">\n",
       "      <th></th>\n",
       "      <th>value</th>\n",
       "    </tr>\n",
       "    <tr>\n",
       "      <th>label</th>\n",
       "      <th></th>\n",
       "    </tr>\n",
       "  </thead>\n",
       "  <tbody>\n",
       "    <tr>\n",
       "      <th>label1</th>\n",
       "      <td>0.499910</td>\n",
       "    </tr>\n",
       "    <tr>\n",
       "      <th>label2</th>\n",
       "      <td>0.499925</td>\n",
       "    </tr>\n",
       "    <tr>\n",
       "      <th>label3</th>\n",
       "      <td>0.500031</td>\n",
       "    </tr>\n",
       "  </tbody>\n",
       "</table>\n",
       "</div>"
      ],
      "text/plain": [
       "           value\n",
       "label           \n",
       "label1  0.499910\n",
       "label2  0.499925\n",
       "label3  0.500031"
      ]
     },
     "execution_count": 5,
     "metadata": {},
     "output_type": "execute_result"
    }
   ],
   "source": [
    "# weighted mean - partial function\n",
    "import functools\n",
    "\n",
    "key = 'partial_function'\n",
    "start_dt = datetime.datetime.now()\n",
    "\n",
    "def wavg(g, df, weight_series):\n",
    "    w = df.loc[g.index][weight_series]\n",
    "    return (g * w).sum() / w.sum()\n",
    "\n",
    "fnc = functools.partial(wavg, df=df, weight_series='weight')\n",
    "dfs[key] = df.groupby('label').agg({'value': fnc})\n",
    "\n",
    "times[key] = datetime.datetime.now() - start_dt\n",
    "dfs[key]"
   ]
  },
  {
   "cell_type": "code",
   "execution_count": 6,
   "metadata": {},
   "outputs": [
    {
     "data": {
      "text/plain": [
       "{'unweighted': datetime.timedelta(0, 1, 965096),\n",
       " 'zip_and_agg': datetime.timedelta(0, 24, 240514),\n",
       " 'apply': datetime.timedelta(0, 9, 43380),\n",
       " 'partial_function': datetime.timedelta(0, 17, 443489)}"
      ]
     },
     "execution_count": 6,
     "metadata": {},
     "output_type": "execute_result"
    }
   ],
   "source": [
    "times"
   ]
  },
  {
   "cell_type": "code",
   "execution_count": 8,
   "metadata": {},
   "outputs": [
    {
     "data": {
      "text/plain": [
       "<BarContainer object of 4 artists>"
      ]
     },
     "execution_count": 8,
     "metadata": {},
     "output_type": "execute_result"
    },
    {
     "data": {
      "image/png": "[encoded data removed]",
      "text/plain": [
       "<Figure size 432x288 with 1 Axes>"
      ]
     },
     "metadata": {},
     "output_type": "display_data"
    }
   ],
   "source": [
    "import matplotlib.pyplot\n",
    "\n",
    "matplotlib.pyplot.bar(times.keys(), [time.total_seconds() for time in times.values()])"
   ]
  },
  {
   "cell_type": "code",
   "execution_count": null,
   "metadata": {},
   "outputs": [],
   "source": []
  }
 ],
 "metadata": {
  "kernelspec": {
   "display_name": "Python 3",
   "language": "python",
   "name": "python3"
  },
  "language_info": {
   "codemirror_mode": {
    "name": "ipython",
    "version": 3
   },
   "file_extension": ".py",
   "mimetype": "text/x-python",
   "name": "python",
   "nbconvert_exporter": "python",
   "pygments_lexer": "ipython3",
   "version": "3.6.5"
  }
 },
 "nbformat": 4,
 "nbformat_minor": 2
}
